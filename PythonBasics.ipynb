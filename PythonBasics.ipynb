{
  "nbformat": 4,
  "nbformat_minor": 0,
  "metadata": {
    "colab": {
      "provenance": []
    },
    "kernelspec": {
      "name": "python3",
      "display_name": "Python 3"
    },
    "language_info": {
      "name": "python"
    }
  },
  "cells": [
    {
      "cell_type": "markdown",
      "source": [
        "# Python Basics"
      ],
      "metadata": {
        "id": "vZgKdkzz4lMd"
      }
    },
    {
      "cell_type": "markdown",
      "source": [
        "1. What is Python, and why is it popular?\n",
        "   - Python is an interpreted, high-level programming language that is noted for its easy, readability, and flexibility. It was developed by Guido van Rossum and first released in 1991. Python uses clean, readable syntax that is similar to plain English, making it easy for beginners while being effective for experts.\n",
        "\n",
        "   Python is popular because its -:\n",
        "   1- Ease to use.\n",
        "   2- Widely use in industries.\n",
        "   3- Industry Adoption – Used by companies (Google, Netflix, NASA, and Instagram)\n",
        "   4- Image processing.\n",
        "   5- Game Development (pygame).\n",
        "   6-Automation/Scripting (web scraping).\n",
        "   7- A lot of libaries(Pandas, NumPy, TensorFlow).\n",
        "\n",
        "2. What is an interpreter in Python?\n",
        "   - In Python, an interpreter is basically the thing that reads our code line by line and runs it directly. Unlike a compiler that changes the whole program at once, the interpreter just takes one line, understands it, and shows the result right away. It can be a bit slower than compiled languages.\n",
        "\n",
        "3. What are pre-defined keywords in Python?\n",
        "   - Control flow: if, else, elif, for, while, break, continue, return\n",
        "\n",
        "   -  Boolean values: True, False, None\n",
        "\n",
        "   -  Logical operators: and, or, not, in, is\n",
        "\n",
        "   -  Function and class-related: def, class, lambda, yield\n",
        "\n",
        "   -  Other special words: import, try, except, raise, global, nonlocal, with, as, pass\n",
        "\n",
        "4. Can keywords be used as variable names?\n",
        "   - No, keywords cannot be used as variable names in Python.\n",
        "     Python, keywords are like special words the language already understands. They’re reserved for specific jobs.\n",
        "\n",
        "5. What is mutability in Python?\n",
        "   - Mutability in Python means whether a value stored in an object can be changed after it is created or not. Mutability decides if data inside an object can be updated or it stays fixed.\n",
        "\n",
        "6. Why are lists mutable, but tuples are immutable?\n",
        "   - A list is like a cardboard box with a lid you can open anytime. You can add new things, remove stuff, or shuffle the items around because it’s designed to be flexible. That’s what mutable means—you can change it after you create it.\n",
        "\n",
        "   - A tuple, on the other hand, is like a sealed package. Once it’s wrapped up and taped shut, you can only look at what’s inside, not change or rearrange it. That’s why tuples are called immutable they stay exactly as they were when you made them.\n",
        "\n",
        "7. What is the difference between “==” and “is” operators in Python?\n",
        "   - == (equals) is like asking: “Do our photos look the same?”\n",
        "→ Even if they’re stored on different phones, if the pictures are identical, the answer is yes.\n",
        "\n",
        "   - is (identity) is like asking: “Are we looking at the exact same file on the same phone?\n",
        "\n",
        "8. What are logical operators in Python?\n",
        "     - Logical operators are used for combine 2 or more then 2 condition. There are three types of logical operators-\n",
        "         - Logical\n",
        "         - Logical NOT\n",
        "\n",
        "  9. What is type casting in Python?\n",
        "     - Type casting uses for convert one data type into another data type like, string change into number and string change into string.\n",
        "     There are two types of type casting-\n",
        "         - Implicit type casting\n",
        "         - Explicit type casting\n",
        "\n",
        "  10. What is the difference between implicit and explicit type casting?\n",
        "      -  Implicit type casting - Python automatically converts one data type into another. When a smaller data type (int) is used with a larger one (float), Python promotes it to the larger type and there is no data loss.\n",
        "      - Explicit type casting - We manually convert one data type into another using functions like int(), float(), str(), etc.it may cause data loss.\n",
        "\n",
        "11. What is the purpose of conditional statements in Python?\n",
        "      - Conditional statements are used to make decisions in Python.\n",
        "They check whether a condition is true or false.\n",
        "Based on the result, different blocks of code are executed.\n",
        "\n",
        "  12. How does the elif statement work ?\n",
        "      -  The elif statement in Python is used when you have multiple conditions to check. First, Python checks the if condition. If it’s false, then it checks the elif condition. If one elif is true, its block runs and the rest are skipped.\n",
        "\n",
        "  13. What is the difference between for and while loops?\n",
        "      - FOR loop is used for a fixed condtion. It's used when we already know how many times to run the program.\n",
        "      - WHILE loop is depends on condtition. It is used when we just give a condition and it keeps running until that condition becomes false.\n",
        "\n",
        "  14. Describe a scenario where a while loop is more suitable than a for loop.\n",
        "      - while loop is better when we don’t know how many times to repeat like asking a user to enter the correct password it keeps running until the right input is given.\n",
        "\n"
      ],
      "metadata": {
        "id": "zE04JKar40zF"
      }
    },
    {
      "cell_type": "code",
      "source": [
        "#1 Write a Python program to print \"Hello, World!\"\n",
        "\n",
        "print(\"Hello, World\")"
      ],
      "metadata": {
        "colab": {
          "base_uri": "https://localhost:8080/"
        },
        "id": "blnGuqi043vK",
        "outputId": "4d57de58-a63a-4427-8215-d874507956eb"
      },
      "execution_count": null,
      "outputs": [
        {
          "output_type": "stream",
          "name": "stdout",
          "text": [
            "Hello, World\n"
          ]
        }
      ]
    },
    {
      "cell_type": "code",
      "source": [
        "#2 Write a Python program that displays your name and age?\n",
        "\n",
        "name = \"Kartikey\"\n",
        "age = 20\n",
        "print(\"My name is\", name, \"and I am\", age, \"year old\")"
      ],
      "metadata": {
        "colab": {
          "base_uri": "https://localhost:8080/"
        },
        "id": "5moDI9jt5Hl9",
        "outputId": "0ff57261-f140-4808-f1de-663736612361"
      },
      "execution_count": null,
      "outputs": [
        {
          "output_type": "stream",
          "name": "stdout",
          "text": [
            "My name is Kartikey and I am 20 year old\n"
          ]
        }
      ]
    },
    {
      "cell_type": "code",
      "source": [
        "#3 Write code to print all the pre-defined keywords in Python using the keyword library\n",
        "\n",
        "help(\"keywords\")"
      ],
      "metadata": {
        "colab": {
          "base_uri": "https://localhost:8080/"
        },
        "id": "dKL6WeCC5IJT",
        "outputId": "82817b74-260c-43be-a9c6-9a3601afdcb0"
      },
      "execution_count": null,
      "outputs": [
        {
          "output_type": "stream",
          "name": "stdout",
          "text": [
            "\n",
            "Here is a list of the Python keywords.  Enter any keyword to get more help.\n",
            "\n",
            "False               class               from                or\n",
            "None                continue            global              pass\n",
            "True                def                 if                  raise\n",
            "and                 del                 import              return\n",
            "as                  elif                in                  try\n",
            "assert              else                is                  while\n",
            "async               except              lambda              with\n",
            "await               finally             nonlocal            yield\n",
            "break               for                 not                 \n",
            "\n"
          ]
        }
      ]
    },
    {
      "cell_type": "code",
      "source": [
        "#4 Write a program that checks if a given word is a Python keyword.\n",
        "\n",
        "a = (\"Hello world\")\n",
        "type(a)"
      ],
      "metadata": {
        "colab": {
          "base_uri": "https://localhost:8080/"
        },
        "id": "CbC1Q6dO5Ite",
        "outputId": "f706bf4c-eb58-4470-98db-36bc86e35943"
      },
      "execution_count": null,
      "outputs": [
        {
          "output_type": "execute_result",
          "data": {
            "text/plain": [
              "str"
            ]
          },
          "metadata": {},
          "execution_count": 4
        }
      ]
    },
    {
      "cell_type": "code",
      "source": [
        "#5 Create a list and tuple in Python, and demonstrate how attempting to change an element works differently for each\n",
        "\n",
        "list = [1, 35, 23, 45]\n",
        "tuple = [1, 35, 23, 45]\n",
        "\n",
        "#chnage the element in list\n",
        "list[0] = 10\n",
        "print(list)\n",
        "\n",
        "#change the element in tuple\n",
        "tuple[0] = 10\n",
        "print(tuple)"
      ],
      "metadata": {
        "colab": {
          "base_uri": "https://localhost:8080/"
        },
        "id": "bBl4YUWG5I23",
        "outputId": "0f5f6b0c-f4f7-4a19-d8d0-e0fc24a8cf59"
      },
      "execution_count": null,
      "outputs": [
        {
          "output_type": "stream",
          "name": "stdout",
          "text": [
            "[10, 35, 23, 45]\n",
            "[10, 35, 23, 45]\n"
          ]
        }
      ]
    },
    {
      "cell_type": "code",
      "source": [
        "#6  Write a function to demonstrate the behavior of mutable and immutable arguments?\n",
        "\n",
        "#Immutable example (interger)\n",
        "x = 10\n",
        "y = x #y will the same value of x\n",
        "y += (4) #to create a new integer\n",
        "print(x) #x value will same as given-> 10 (unchanged)\n",
        "print(y) #y value will be new by-> 4 (changed)\n",
        "\n",
        "#Mutable example (list)\n",
        "x = [1, 2, 3]\n",
        "y = x #y value same of x\n",
        "y[0] = 99 #change the first element directly\n",
        "print(x) # x is change too\n",
        "print(y) #y will change as same"
      ],
      "metadata": {
        "colab": {
          "base_uri": "https://localhost:8080/"
        },
        "id": "bHZkFCsX5I_T",
        "outputId": "c5307068-22df-4366-bd34-e3f9a30ce094"
      },
      "execution_count": null,
      "outputs": [
        {
          "output_type": "stream",
          "name": "stdout",
          "text": [
            "10\n",
            "14\n",
            "[99, 2, 3]\n",
            "[99, 2, 3]\n"
          ]
        }
      ]
    },
    {
      "cell_type": "code",
      "source": [
        "#7 Write a program that performs basic arithmetic operations on two user-input numbers?\n",
        "a = int(input(\"Enter the first number: \"))\n",
        "b = int(input(\"Enter the second number: \"))\n",
        "print(\"Addition: \", a+b)\n",
        "print(\"Subtraction: \", a-b)\n",
        "print(\"Multiplication: \", a*b)\n",
        "print(\"Division: \", a/b)"
      ],
      "metadata": {
        "colab": {
          "base_uri": "https://localhost:8080/"
        },
        "id": "-WrPIioO5JIm",
        "outputId": "2bce1857-c96e-4905-ef42-bb22d495c550"
      },
      "execution_count": null,
      "outputs": [
        {
          "output_type": "stream",
          "name": "stdout",
          "text": [
            "Enter the first number: 6\n",
            "Enter the second number: 3\n",
            "Addition:  9\n",
            "Subtraction:  3\n",
            "Multiplication:  18\n",
            "Division:  2.0\n"
          ]
        }
      ]
    },
    {
      "cell_type": "code",
      "source": [
        "#8  Write a program to demonstrate the use of logical operators?\n",
        "a = True\n",
        "b = False\n",
        "print(a and b)\n",
        "print(a or b)\n",
        "print(not b)"
      ],
      "metadata": {
        "id": "NQNBfstT5tz1",
        "outputId": "6c99a801-8581-401e-8dc7-0401f15cc3ab",
        "colab": {
          "base_uri": "https://localhost:8080/"
        }
      },
      "execution_count": null,
      "outputs": [
        {
          "output_type": "stream",
          "name": "stdout",
          "text": [
            "False\n",
            "True\n",
            "True\n"
          ]
        }
      ]
    },
    {
      "cell_type": "code",
      "source": [
        "#9 Write a Python program to convert user input from string to integer, float, and boolean types?\n",
        "value = input(\"Enter a value: \")\n",
        "print(int(value))\n",
        "print(float(value))\n",
        "print(bool(value))"
      ],
      "metadata": {
        "id": "djz3gS085JRm",
        "colab": {
          "base_uri": "https://localhost:8080/"
        },
        "outputId": "0182a77e-5436-49d8-eae7-d8414354fa59"
      },
      "execution_count": null,
      "outputs": [
        {
          "output_type": "stream",
          "name": "stdout",
          "text": [
            "Enter a value: 42\n",
            "42\n",
            "42.0\n",
            "True\n"
          ]
        }
      ]
    },
    {
      "cell_type": "code",
      "source": [
        "#10  Write code to demonstrate type casting with list elements?\n",
        "str_list = [\"1\", \"2\", \"3\"]\n",
        "int_list = [int(x) for x in str_list]\n",
        "float_list = [float(x) for x in str_list]\n",
        "bool_list = [bool(x) for x in str_list]\n",
        "print(int_list)\n",
        "print(float_list)\n",
        "print(bool_list)"
      ],
      "metadata": {
        "colab": {
          "base_uri": "https://localhost:8080/"
        },
        "id": "QgkIBj3B6i_N",
        "outputId": "f500ca78-5b0c-4be3-8b63-f2b8b797287e"
      },
      "execution_count": null,
      "outputs": [
        {
          "output_type": "stream",
          "name": "stdout",
          "text": [
            "[1, 2, 3]\n",
            "[1.0, 2.0, 3.0]\n",
            "[True, True, True]\n"
          ]
        }
      ]
    },
    {
      "cell_type": "code",
      "source": [
        "#11  Write a program that checks if a number is positive, negative, or zero?\n",
        "num = int(input(\"enter the number: \"))\n",
        "if num > 0:\n",
        "  print(\"positive\")\n",
        "elif num < 0:\n",
        "  print(\"negative\")\n",
        "else:\n",
        "  print(\"zero\")"
      ],
      "metadata": {
        "colab": {
          "base_uri": "https://localhost:8080/"
        },
        "id": "Pg9fj8AY7ouL",
        "outputId": "13e50eed-4c47-49ef-f417-c1086edf8b6c"
      },
      "execution_count": null,
      "outputs": [
        {
          "output_type": "stream",
          "name": "stdout",
          "text": [
            "enter the number: -1\n",
            "negative\n"
          ]
        }
      ]
    },
    {
      "cell_type": "code",
      "source": [
        "#12 Write a for loop to print numbers from 1 to 10?\n",
        "for i in range(1, 11):\n",
        "  print(i)"
      ],
      "metadata": {
        "colab": {
          "base_uri": "https://localhost:8080/"
        },
        "id": "FoSmclV17osF",
        "outputId": "0065382c-84cb-4c81-e132-3ce56a1777a6"
      },
      "execution_count": null,
      "outputs": [
        {
          "output_type": "stream",
          "name": "stdout",
          "text": [
            "1\n",
            "2\n",
            "3\n",
            "4\n",
            "5\n",
            "6\n",
            "7\n",
            "8\n",
            "9\n",
            "10\n"
          ]
        }
      ]
    },
    {
      "cell_type": "code",
      "source": [
        "#13 Write a Python program to find the sum of all even numbers between 1 and 50?\n",
        "sum = 0\n",
        "for i in range(1, 51):\n",
        "  if i % 2 == 0:\n",
        "    sum += i\n",
        "print(sum)"
      ],
      "metadata": {
        "colab": {
          "base_uri": "https://localhost:8080/"
        },
        "id": "X45AVi6K7opl",
        "outputId": "1f16a83c-5ffd-453d-bd5f-00a662a55a33"
      },
      "execution_count": null,
      "outputs": [
        {
          "output_type": "stream",
          "name": "stdout",
          "text": [
            "650\n"
          ]
        }
      ]
    },
    {
      "cell_type": "code",
      "source": [
        "#14 Write a program to reverse a string using a while loop?\n",
        "s = input(\"Enter a string: \")\n",
        "i = len(s) - 1\n",
        "\n",
        "while i >= 0:\n",
        "    print(s[i], end=\"\")\n",
        "    i -= 1"
      ],
      "metadata": {
        "colab": {
          "base_uri": "https://localhost:8080/"
        },
        "id": "QnatKDoG7oj7",
        "outputId": "ec46898d-3cd3-4284-beab-672955c87719"
      },
      "execution_count": null,
      "outputs": [
        {
          "output_type": "stream",
          "name": "stdout",
          "text": [
            "Enter a string: hello\n",
            "olleh"
          ]
        }
      ]
    },
    {
      "cell_type": "code",
      "source": [
        "#15 Write a Python program to calculate the factorial of a number provided by the user using a while loop?\n",
        "n = int(input(\"Enter a number: \"))\n",
        "f = 1\n",
        "while n > 1:\n",
        "  f *= n\n",
        "  n -= 1\n",
        "print(f)"
      ],
      "metadata": {
        "colab": {
          "base_uri": "https://localhost:8080/"
        },
        "id": "gqDgeDSb7oa7",
        "outputId": "caf688b5-974f-484a-ab87-30c8177be209"
      },
      "execution_count": null,
      "outputs": [
        {
          "output_type": "stream",
          "name": "stdout",
          "text": [
            "Enter a number: 4\n",
            "24\n"
          ]
        }
      ]
    }
  ]
}